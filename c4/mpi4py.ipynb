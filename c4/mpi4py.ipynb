{
  "cells": [
    {
      "cell_type": "markdown",
      "metadata": {
        "id": "T-NuICG6r4Bi"
      },
      "source": [
        "Ćwiczenie wstępne z MPI. Na podstawie:\n",
        "* http://selkie.macalester.edu/DistributedPython/index.html\n",
        "\n",
        "* https://mpi4py.readthedocs.io/en/stable/index.html"
      ]
    },
    {
      "cell_type": "code",
      "execution_count": 2,
      "metadata": {
        "id": "oFDYsaxVf3h6"
      },
      "outputs": [
        {
          "name": "stdout",
          "output_type": "stream",
          "text": [
            "Collecting mpi4py\n",
            "  Using cached https://files.pythonhosted.org/packages/2e/1a/1393e69df9cf7b04143a51776727dd048586781bca82543594ab439e2eb4/mpi4py-3.1.5.tar.gz\n",
            "Building wheels for collected packages: mpi4py\n",
            "  Running setup.py bdist_wheel for mpi4py ... \u001b[?25lerror\n",
            "  Complete output from command /usr/bin/python -u -c \"import setuptools, tokenize;__file__='/tmp/pip-build-OWzFsm/mpi4py/setup.py';f=getattr(tokenize, 'open', open)(__file__);code=f.read().replace('\\r\\n', '\\n');f.close();exec(compile(code, __file__, 'exec'))\" bdist_wheel -d /tmp/tmpy2rCtspip-wheel- --python-tag cp27:\n",
            "  running bdist_wheel\n",
            "  running build\n",
            "  running build_src\n",
            "  running build_py\n",
            "  creating build\n",
            "  creating build/lib.linux-x86_64-2.7\n",
            "  creating build/lib.linux-x86_64-2.7/mpi4py\n",
            "  copying src/mpi4py/run.py -> build/lib.linux-x86_64-2.7/mpi4py\n",
            "  copying src/mpi4py/bench.py -> build/lib.linux-x86_64-2.7/mpi4py\n",
            "  copying src/mpi4py/__main__.py -> build/lib.linux-x86_64-2.7/mpi4py\n",
            "  copying src/mpi4py/__init__.py -> build/lib.linux-x86_64-2.7/mpi4py\n",
            "  creating build/lib.linux-x86_64-2.7/mpi4py/futures\n",
            "  copying src/mpi4py/futures/server.py -> build/lib.linux-x86_64-2.7/mpi4py/futures\n",
            "  copying src/mpi4py/futures/pool.py -> build/lib.linux-x86_64-2.7/mpi4py/futures\n",
            "  copying src/mpi4py/futures/aplus.py -> build/lib.linux-x86_64-2.7/mpi4py/futures\n",
            "  copying src/mpi4py/futures/_lib.py -> build/lib.linux-x86_64-2.7/mpi4py/futures\n",
            "  copying src/mpi4py/futures/_core.py -> build/lib.linux-x86_64-2.7/mpi4py/futures\n",
            "  copying src/mpi4py/futures/_base.py -> build/lib.linux-x86_64-2.7/mpi4py/futures\n",
            "  copying src/mpi4py/futures/__main__.py -> build/lib.linux-x86_64-2.7/mpi4py/futures\n",
            "  copying src/mpi4py/futures/__init__.py -> build/lib.linux-x86_64-2.7/mpi4py/futures\n",
            "  creating build/lib.linux-x86_64-2.7/mpi4py/util\n",
            "  copying src/mpi4py/util/pkl5.py -> build/lib.linux-x86_64-2.7/mpi4py/util\n",
            "  copying src/mpi4py/util/dtlib.py -> build/lib.linux-x86_64-2.7/mpi4py/util\n",
            "  copying src/mpi4py/util/__init__.py -> build/lib.linux-x86_64-2.7/mpi4py/util\n",
            "  copying src/mpi4py/py.typed -> build/lib.linux-x86_64-2.7/mpi4py\n",
            "  copying src/mpi4py/run.pyi -> build/lib.linux-x86_64-2.7/mpi4py\n",
            "  copying src/mpi4py/dl.pyi -> build/lib.linux-x86_64-2.7/mpi4py\n",
            "  copying src/mpi4py/bench.pyi -> build/lib.linux-x86_64-2.7/mpi4py\n",
            "  copying src/mpi4py/__main__.pyi -> build/lib.linux-x86_64-2.7/mpi4py\n",
            "  copying src/mpi4py/__init__.pyi -> build/lib.linux-x86_64-2.7/mpi4py\n",
            "  copying src/mpi4py/MPI.pyi -> build/lib.linux-x86_64-2.7/mpi4py\n",
            "  copying src/mpi4py/libmpi.pxd -> build/lib.linux-x86_64-2.7/mpi4py\n",
            "  copying src/mpi4py/__init__.pxd -> build/lib.linux-x86_64-2.7/mpi4py\n",
            "  copying src/mpi4py/MPI.pxd -> build/lib.linux-x86_64-2.7/mpi4py\n",
            "  creating build/lib.linux-x86_64-2.7/mpi4py/include\n",
            "  creating build/lib.linux-x86_64-2.7/mpi4py/include/mpi4py\n",
            "  copying src/mpi4py/include/mpi4py/mpi4py.h -> build/lib.linux-x86_64-2.7/mpi4py/include/mpi4py\n",
            "  copying src/mpi4py/include/mpi4py/mpi4py.MPI_api.h -> build/lib.linux-x86_64-2.7/mpi4py/include/mpi4py\n",
            "  copying src/mpi4py/include/mpi4py/mpi4py.MPI.h -> build/lib.linux-x86_64-2.7/mpi4py/include/mpi4py\n",
            "  copying src/mpi4py/include/mpi4py/mpi4py.i -> build/lib.linux-x86_64-2.7/mpi4py/include/mpi4py\n",
            "  copying src/mpi4py/include/mpi4py/mpi.pxi -> build/lib.linux-x86_64-2.7/mpi4py/include/mpi4py\n",
            "  copying src/mpi4py/futures/server.pyi -> build/lib.linux-x86_64-2.7/mpi4py/futures\n",
            "  copying src/mpi4py/futures/pool.pyi -> build/lib.linux-x86_64-2.7/mpi4py/futures\n",
            "  copying src/mpi4py/futures/aplus.pyi -> build/lib.linux-x86_64-2.7/mpi4py/futures\n",
            "  copying src/mpi4py/futures/_lib.pyi -> build/lib.linux-x86_64-2.7/mpi4py/futures\n",
            "  copying src/mpi4py/futures/_core.pyi -> build/lib.linux-x86_64-2.7/mpi4py/futures\n",
            "  copying src/mpi4py/futures/__main__.pyi -> build/lib.linux-x86_64-2.7/mpi4py/futures\n",
            "  copying src/mpi4py/futures/__init__.pyi -> build/lib.linux-x86_64-2.7/mpi4py/futures\n",
            "  copying src/mpi4py/util/pkl5.pyi -> build/lib.linux-x86_64-2.7/mpi4py/util\n",
            "  copying src/mpi4py/util/dtlib.pyi -> build/lib.linux-x86_64-2.7/mpi4py/util\n",
            "  copying src/mpi4py/util/__init__.pyi -> build/lib.linux-x86_64-2.7/mpi4py/util\n",
            "  Skipping optional fixer: unittest\n",
            "  Skipping optional fixer: collections\n",
            "  Skipping optional fixer: int\n",
            "  Skipping optional fixer: memoryview\n",
            "  running build_clib\n",
            "  MPI configuration: [mpi] from 'mpi.cfg'\n",
            "  checking for library 'lmpe' ...\n",
            "  x86_64-linux-gnu-gcc -pthread -fno-strict-aliasing -Wdate-time -D_FORTIFY_SOURCE=2 -g -fdebug-prefix-map=/build/python2.7-nq92VM/python2.7-2.7.17=. -fstack-protector-strong -Wformat -Werror=format-security -fPIC -c _configtest.c -o _configtest.o\n",
            "  x86_64-linux-gnu-gcc -pthread _configtest.o -llmpe -o _configtest\n",
            "  /usr/bin/ld: cannot find -llmpe\n",
            "  collect2: error: ld returned 1 exit status\n",
            "  failure.\n",
            "  removing: _configtest.c _configtest.o\n",
            "  building 'mpe' dylib library\n",
            "  creating build/temp.linux-x86_64-2.7\n",
            "  creating build/temp.linux-x86_64-2.7/src\n",
            "  creating build/temp.linux-x86_64-2.7/src/lib-pmpi\n",
            "  x86_64-linux-gnu-gcc -pthread -fno-strict-aliasing -Wdate-time -D_FORTIFY_SOURCE=2 -g -fdebug-prefix-map=/build/python2.7-nq92VM/python2.7-2.7.17=. -fstack-protector-strong -Wformat -Werror=format-security -fPIC -c src/lib-pmpi/mpe.c -o build/temp.linux-x86_64-2.7/src/lib-pmpi/mpe.o\n",
            "  creating build/lib.linux-x86_64-2.7/mpi4py/lib-pmpi\n",
            "  x86_64-linux-gnu-gcc -pthread -shared -Wl,-O1 -Wl,-Bsymbolic-functions -Wl,-Bsymbolic-functions -Wl,-z,relro -fno-strict-aliasing -DNDEBUG -g -fwrapv -O2 -Wall -Wstrict-prototypes -Wdate-time -D_FORTIFY_SOURCE=2 -g -fdebug-prefix-map=/build/python2.7-nq92VM/python2.7-2.7.17=. -fstack-protector-strong -Wformat -Werror=format-security -Wl,-Bsymbolic-functions -Wl,-z,relro -Wdate-time -D_FORTIFY_SOURCE=2 -g -fdebug-prefix-map=/build/python2.7-nq92VM/python2.7-2.7.17=. -fstack-protector-strong -Wformat -Werror=format-security -fPIC -Wl,--no-as-needed build/temp.linux-x86_64-2.7/src/lib-pmpi/mpe.o -o build/lib.linux-x86_64-2.7/mpi4py/lib-pmpi/libmpe.so\n",
            "  checking for library 'vt-mpi' ...\n",
            "  x86_64-linux-gnu-gcc -pthread -fno-strict-aliasing -Wdate-time -D_FORTIFY_SOURCE=2 -g -fdebug-prefix-map=/build/python2.7-nq92VM/python2.7-2.7.17=. -fstack-protector-strong -Wformat -Werror=format-security -fPIC -c _configtest.c -o _configtest.o\n",
            "  x86_64-linux-gnu-gcc -pthread _configtest.o -lvt-mpi -o _configtest\n",
            "  /usr/bin/ld: cannot find -lvt-mpi\n",
            "  collect2: error: ld returned 1 exit status\n",
            "  failure.\n",
            "  removing: _configtest.c _configtest.o\n",
            "  checking for library 'vt.mpi' ...\n",
            "  x86_64-linux-gnu-gcc -pthread -fno-strict-aliasing -Wdate-time -D_FORTIFY_SOURCE=2 -g -fdebug-prefix-map=/build/python2.7-nq92VM/python2.7-2.7.17=. -fstack-protector-strong -Wformat -Werror=format-security -fPIC -c _configtest.c -o _configtest.o\n",
            "  x86_64-linux-gnu-gcc -pthread _configtest.o -lvt.mpi -o _configtest\n",
            "  /usr/bin/ld: cannot find -lvt.mpi\n",
            "  collect2: error: ld returned 1 exit status\n",
            "  failure.\n",
            "  removing: _configtest.c _configtest.o\n",
            "  building 'vt' dylib library\n",
            "  x86_64-linux-gnu-gcc -pthread -fno-strict-aliasing -Wdate-time -D_FORTIFY_SOURCE=2 -g -fdebug-prefix-map=/build/python2.7-nq92VM/python2.7-2.7.17=. -fstack-protector-strong -Wformat -Werror=format-security -fPIC -c src/lib-pmpi/vt.c -o build/temp.linux-x86_64-2.7/src/lib-pmpi/vt.o\n",
            "  x86_64-linux-gnu-gcc -pthread -shared -Wl,-O1 -Wl,-Bsymbolic-functions -Wl,-Bsymbolic-functions -Wl,-z,relro -fno-strict-aliasing -DNDEBUG -g -fwrapv -O2 -Wall -Wstrict-prototypes -Wdate-time -D_FORTIFY_SOURCE=2 -g -fdebug-prefix-map=/build/python2.7-nq92VM/python2.7-2.7.17=. -fstack-protector-strong -Wformat -Werror=format-security -Wl,-Bsymbolic-functions -Wl,-z,relro -Wdate-time -D_FORTIFY_SOURCE=2 -g -fdebug-prefix-map=/build/python2.7-nq92VM/python2.7-2.7.17=. -fstack-protector-strong -Wformat -Werror=format-security -fPIC -Wl,--no-as-needed build/temp.linux-x86_64-2.7/src/lib-pmpi/vt.o -o build/lib.linux-x86_64-2.7/mpi4py/lib-pmpi/libvt.so\n",
            "  checking for library 'vt-mpi' ...\n",
            "  x86_64-linux-gnu-gcc -pthread -fno-strict-aliasing -Wdate-time -D_FORTIFY_SOURCE=2 -g -fdebug-prefix-map=/build/python2.7-nq92VM/python2.7-2.7.17=. -fstack-protector-strong -Wformat -Werror=format-security -fPIC -c _configtest.c -o _configtest.o\n",
            "  x86_64-linux-gnu-gcc -pthread _configtest.o -lvt-mpi -o _configtest\n",
            "  /usr/bin/ld: cannot find -lvt-mpi\n",
            "  collect2: error: ld returned 1 exit status\n",
            "  failure.\n",
            "  removing: _configtest.c _configtest.o\n",
            "  checking for library 'vt.mpi' ...\n",
            "  x86_64-linux-gnu-gcc -pthread -fno-strict-aliasing -Wdate-time -D_FORTIFY_SOURCE=2 -g -fdebug-prefix-map=/build/python2.7-nq92VM/python2.7-2.7.17=. -fstack-protector-strong -Wformat -Werror=format-security -fPIC -c _configtest.c -o _configtest.o\n",
            "  x86_64-linux-gnu-gcc -pthread _configtest.o -lvt.mpi -o _configtest\n",
            "  /usr/bin/ld: cannot find -lvt.mpi\n",
            "  collect2: error: ld returned 1 exit status\n",
            "  failure.\n",
            "  removing: _configtest.c _configtest.o\n",
            "  building 'vt-mpi' dylib library\n",
            "  x86_64-linux-gnu-gcc -pthread -fno-strict-aliasing -Wdate-time -D_FORTIFY_SOURCE=2 -g -fdebug-prefix-map=/build/python2.7-nq92VM/python2.7-2.7.17=. -fstack-protector-strong -Wformat -Werror=format-security -fPIC -c src/lib-pmpi/vt-mpi.c -o build/temp.linux-x86_64-2.7/src/lib-pmpi/vt-mpi.o\n",
            "  x86_64-linux-gnu-gcc -pthread -shared -Wl,-O1 -Wl,-Bsymbolic-functions -Wl,-Bsymbolic-functions -Wl,-z,relro -fno-strict-aliasing -DNDEBUG -g -fwrapv -O2 -Wall -Wstrict-prototypes -Wdate-time -D_FORTIFY_SOURCE=2 -g -fdebug-prefix-map=/build/python2.7-nq92VM/python2.7-2.7.17=. -fstack-protector-strong -Wformat -Werror=format-security -Wl,-Bsymbolic-functions -Wl,-z,relro -Wdate-time -D_FORTIFY_SOURCE=2 -g -fdebug-prefix-map=/build/python2.7-nq92VM/python2.7-2.7.17=. -fstack-protector-strong -Wformat -Werror=format-security -fPIC -Wl,--no-as-needed build/temp.linux-x86_64-2.7/src/lib-pmpi/vt-mpi.o -o build/lib.linux-x86_64-2.7/mpi4py/lib-pmpi/libvt-mpi.so\n",
            "  checking for library 'vt-hyb' ...\n",
            "  x86_64-linux-gnu-gcc -pthread -fno-strict-aliasing -Wdate-time -D_FORTIFY_SOURCE=2 -g -fdebug-prefix-map=/build/python2.7-nq92VM/python2.7-2.7.17=. -fstack-protector-strong -Wformat -Werror=format-security -fPIC -c _configtest.c -o _configtest.o\n",
            "  x86_64-linux-gnu-gcc -pthread _configtest.o -lvt-hyb -o _configtest\n",
            "  /usr/bin/ld: cannot find -lvt-hyb\n",
            "  collect2: error: ld returned 1 exit status\n",
            "  failure.\n",
            "  removing: _configtest.c _configtest.o\n",
            "  checking for library 'vt.ompi' ...\n",
            "  x86_64-linux-gnu-gcc -pthread -fno-strict-aliasing -Wdate-time -D_FORTIFY_SOURCE=2 -g -fdebug-prefix-map=/build/python2.7-nq92VM/python2.7-2.7.17=. -fstack-protector-strong -Wformat -Werror=format-security -fPIC -c _configtest.c -o _configtest.o\n",
            "  x86_64-linux-gnu-gcc -pthread _configtest.o -lvt.ompi -o _configtest\n",
            "  /usr/bin/ld: cannot find -lvt.ompi\n",
            "  collect2: error: ld returned 1 exit status\n",
            "  failure.\n",
            "  removing: _configtest.c _configtest.o\n",
            "  building 'vt-hyb' dylib library\n",
            "  x86_64-linux-gnu-gcc -pthread -fno-strict-aliasing -Wdate-time -D_FORTIFY_SOURCE=2 -g -fdebug-prefix-map=/build/python2.7-nq92VM/python2.7-2.7.17=. -fstack-protector-strong -Wformat -Werror=format-security -fPIC -c src/lib-pmpi/vt-hyb.c -o build/temp.linux-x86_64-2.7/src/lib-pmpi/vt-hyb.o\n",
            "  x86_64-linux-gnu-gcc -pthread -shared -Wl,-O1 -Wl,-Bsymbolic-functions -Wl,-Bsymbolic-functions -Wl,-z,relro -fno-strict-aliasing -DNDEBUG -g -fwrapv -O2 -Wall -Wstrict-prototypes -Wdate-time -D_FORTIFY_SOURCE=2 -g -fdebug-prefix-map=/build/python2.7-nq92VM/python2.7-2.7.17=. -fstack-protector-strong -Wformat -Werror=format-security -Wl,-Bsymbolic-functions -Wl,-z,relro -Wdate-time -D_FORTIFY_SOURCE=2 -g -fdebug-prefix-map=/build/python2.7-nq92VM/python2.7-2.7.17=. -fstack-protector-strong -Wformat -Werror=format-security -fPIC -Wl,--no-as-needed build/temp.linux-x86_64-2.7/src/lib-pmpi/vt-hyb.o -o build/lib.linux-x86_64-2.7/mpi4py/lib-pmpi/libvt-hyb.so\n",
            "  running build_ext\n",
            "  MPI configuration: [mpi] from 'mpi.cfg'\n",
            "  checking for dlopen() availability ...\n",
            "  checking for header 'dlfcn.h' ...\n",
            "  x86_64-linux-gnu-gcc -pthread -fno-strict-aliasing -Wdate-time -D_FORTIFY_SOURCE=2 -g -fdebug-prefix-map=/build/python2.7-nq92VM/python2.7-2.7.17=. -fstack-protector-strong -Wformat -Werror=format-security -fPIC -I/usr/include/python2.7 -c _configtest.c -o _configtest.o\n",
            "  success!\n",
            "  removing: _configtest.c _configtest.o\n",
            "  success!\n",
            "  checking for library 'dl' ...\n",
            "  x86_64-linux-gnu-gcc -pthread -fno-strict-aliasing -Wdate-time -D_FORTIFY_SOURCE=2 -g -fdebug-prefix-map=/build/python2.7-nq92VM/python2.7-2.7.17=. -fstack-protector-strong -Wformat -Werror=format-security -fPIC -I/usr/include/python2.7 -c _configtest.c -o _configtest.o\n",
            "  x86_64-linux-gnu-gcc -pthread _configtest.o -Lbuild/temp.linux-x86_64-2.7 -ldl -o _configtest\n",
            "  success!\n",
            "  removing: _configtest.c _configtest.o _configtest\n",
            "  checking for function 'dlopen' ...\n",
            "  x86_64-linux-gnu-gcc -pthread -fno-strict-aliasing -Wdate-time -D_FORTIFY_SOURCE=2 -g -fdebug-prefix-map=/build/python2.7-nq92VM/python2.7-2.7.17=. -fstack-protector-strong -Wformat -Werror=format-security -fPIC -I/usr/include/python2.7 -c _configtest.c -o _configtest.o\n",
            "  x86_64-linux-gnu-gcc -pthread _configtest.o -Lbuild/temp.linux-x86_64-2.7 -ldl -o _configtest\n",
            "  success!\n",
            "  removing: _configtest.c _configtest.o _configtest\n",
            "  building 'mpi4py.dl' extension\n",
            "  x86_64-linux-gnu-gcc -pthread -fno-strict-aliasing -Wdate-time -D_FORTIFY_SOURCE=2 -g -fdebug-prefix-map=/build/python2.7-nq92VM/python2.7-2.7.17=. -fstack-protector-strong -Wformat -Werror=format-security -fPIC -DHAVE_DLFCN_H=1 -DHAVE_DLOPEN=1 -I/usr/include/python2.7 -c src/dynload.c -o build/temp.linux-x86_64-2.7/src/dynload.o\n",
            "  x86_64-linux-gnu-gcc -pthread -shared -Wl,-O1 -Wl,-Bsymbolic-functions -Wl,-Bsymbolic-functions -Wl,-z,relro -fno-strict-aliasing -DNDEBUG -g -fwrapv -O2 -Wall -Wstrict-prototypes -Wdate-time -D_FORTIFY_SOURCE=2 -g -fdebug-prefix-map=/build/python2.7-nq92VM/python2.7-2.7.17=. -fstack-protector-strong -Wformat -Werror=format-security -Wl,-Bsymbolic-functions -Wl,-z,relro -Wdate-time -D_FORTIFY_SOURCE=2 -g -fdebug-prefix-map=/build/python2.7-nq92VM/python2.7-2.7.17=. -fstack-protector-strong -Wformat -Werror=format-security -fPIC build/temp.linux-x86_64-2.7/src/dynload.o -Lbuild/temp.linux-x86_64-2.7 -ldl -o build/lib.linux-x86_64-2.7/mpi4py/dl.so\n",
            "  checking for MPI compile and link ...\n",
            "  x86_64-linux-gnu-gcc -pthread -fno-strict-aliasing -Wdate-time -D_FORTIFY_SOURCE=2 -g -fdebug-prefix-map=/build/python2.7-nq92VM/python2.7-2.7.17=. -fstack-protector-strong -Wformat -Werror=format-security -fPIC -I/usr/include/python2.7 -c _configtest.c -o _configtest.o\n",
            "  _configtest.c:2:10: fatal error: mpi.h: No such file or directory\n",
            "   #include <mpi.h>\n",
            "            ^~~~~~~\n",
            "  compilation terminated.\n",
            "  failure.\n",
            "  removing: _configtest.c _configtest.o\n",
            "  error: Cannot compile MPI programs. Check your configuration!!!\n",
            "  \n",
            "  ----------------------------------------\n",
            "\u001b[31m  Failed building wheel for mpi4py\u001b[0m\n",
            "\u001b[?25h  Running setup.py clean for mpi4py\n",
            "Failed to build mpi4py\n",
            "Installing collected packages: mpi4py\n",
            "  Running setup.py install for mpi4py ... \u001b[?25lerror\n",
            "    Complete output from command /usr/bin/python -u -c \"import setuptools, tokenize;__file__='/tmp/pip-build-OWzFsm/mpi4py/setup.py';f=getattr(tokenize, 'open', open)(__file__);code=f.read().replace('\\r\\n', '\\n');f.close();exec(compile(code, __file__, 'exec'))\" install --record /tmp/pip-jXh4BK-record/install-record.txt --single-version-externally-managed --compile --user --prefix=:\n",
            "    running install\n",
            "    running build\n",
            "    running build_src\n",
            "    running build_py\n",
            "    creating build\n",
            "    creating build/lib.linux-x86_64-2.7\n",
            "    creating build/lib.linux-x86_64-2.7/mpi4py\n",
            "    copying src/mpi4py/run.py -> build/lib.linux-x86_64-2.7/mpi4py\n",
            "    copying src/mpi4py/bench.py -> build/lib.linux-x86_64-2.7/mpi4py\n",
            "    copying src/mpi4py/__main__.py -> build/lib.linux-x86_64-2.7/mpi4py\n",
            "    copying src/mpi4py/__init__.py -> build/lib.linux-x86_64-2.7/mpi4py\n",
            "    creating build/lib.linux-x86_64-2.7/mpi4py/futures\n",
            "    copying src/mpi4py/futures/server.py -> build/lib.linux-x86_64-2.7/mpi4py/futures\n",
            "    copying src/mpi4py/futures/pool.py -> build/lib.linux-x86_64-2.7/mpi4py/futures\n",
            "    copying src/mpi4py/futures/aplus.py -> build/lib.linux-x86_64-2.7/mpi4py/futures\n",
            "    copying src/mpi4py/futures/_lib.py -> build/lib.linux-x86_64-2.7/mpi4py/futures\n",
            "    copying src/mpi4py/futures/_core.py -> build/lib.linux-x86_64-2.7/mpi4py/futures\n",
            "    copying src/mpi4py/futures/_base.py -> build/lib.linux-x86_64-2.7/mpi4py/futures\n",
            "    copying src/mpi4py/futures/__main__.py -> build/lib.linux-x86_64-2.7/mpi4py/futures\n",
            "    copying src/mpi4py/futures/__init__.py -> build/lib.linux-x86_64-2.7/mpi4py/futures\n",
            "    creating build/lib.linux-x86_64-2.7/mpi4py/util\n",
            "    copying src/mpi4py/util/pkl5.py -> build/lib.linux-x86_64-2.7/mpi4py/util\n",
            "    copying src/mpi4py/util/dtlib.py -> build/lib.linux-x86_64-2.7/mpi4py/util\n",
            "    copying src/mpi4py/util/__init__.py -> build/lib.linux-x86_64-2.7/mpi4py/util\n",
            "    copying src/mpi4py/py.typed -> build/lib.linux-x86_64-2.7/mpi4py\n",
            "    copying src/mpi4py/run.pyi -> build/lib.linux-x86_64-2.7/mpi4py\n",
            "    copying src/mpi4py/dl.pyi -> build/lib.linux-x86_64-2.7/mpi4py\n",
            "    copying src/mpi4py/bench.pyi -> build/lib.linux-x86_64-2.7/mpi4py\n",
            "    copying src/mpi4py/__main__.pyi -> build/lib.linux-x86_64-2.7/mpi4py\n",
            "    copying src/mpi4py/__init__.pyi -> build/lib.linux-x86_64-2.7/mpi4py\n",
            "    copying src/mpi4py/MPI.pyi -> build/lib.linux-x86_64-2.7/mpi4py\n",
            "    copying src/mpi4py/libmpi.pxd -> build/lib.linux-x86_64-2.7/mpi4py\n",
            "    copying src/mpi4py/__init__.pxd -> build/lib.linux-x86_64-2.7/mpi4py\n",
            "    copying src/mpi4py/MPI.pxd -> build/lib.linux-x86_64-2.7/mpi4py\n",
            "    creating build/lib.linux-x86_64-2.7/mpi4py/include\n",
            "    creating build/lib.linux-x86_64-2.7/mpi4py/include/mpi4py\n",
            "    copying src/mpi4py/include/mpi4py/mpi4py.h -> build/lib.linux-x86_64-2.7/mpi4py/include/mpi4py\n",
            "    copying src/mpi4py/include/mpi4py/mpi4py.MPI_api.h -> build/lib.linux-x86_64-2.7/mpi4py/include/mpi4py\n",
            "    copying src/mpi4py/include/mpi4py/mpi4py.MPI.h -> build/lib.linux-x86_64-2.7/mpi4py/include/mpi4py\n",
            "    copying src/mpi4py/include/mpi4py/mpi4py.i -> build/lib.linux-x86_64-2.7/mpi4py/include/mpi4py\n",
            "    copying src/mpi4py/include/mpi4py/mpi.pxi -> build/lib.linux-x86_64-2.7/mpi4py/include/mpi4py\n",
            "    copying src/mpi4py/futures/server.pyi -> build/lib.linux-x86_64-2.7/mpi4py/futures\n",
            "    copying src/mpi4py/futures/pool.pyi -> build/lib.linux-x86_64-2.7/mpi4py/futures\n",
            "    copying src/mpi4py/futures/aplus.pyi -> build/lib.linux-x86_64-2.7/mpi4py/futures\n",
            "    copying src/mpi4py/futures/_lib.pyi -> build/lib.linux-x86_64-2.7/mpi4py/futures\n",
            "    copying src/mpi4py/futures/_core.pyi -> build/lib.linux-x86_64-2.7/mpi4py/futures\n",
            "    copying src/mpi4py/futures/__main__.pyi -> build/lib.linux-x86_64-2.7/mpi4py/futures\n",
            "    copying src/mpi4py/futures/__init__.pyi -> build/lib.linux-x86_64-2.7/mpi4py/futures\n",
            "    copying src/mpi4py/util/pkl5.pyi -> build/lib.linux-x86_64-2.7/mpi4py/util\n",
            "    copying src/mpi4py/util/dtlib.pyi -> build/lib.linux-x86_64-2.7/mpi4py/util\n",
            "    copying src/mpi4py/util/__init__.pyi -> build/lib.linux-x86_64-2.7/mpi4py/util\n",
            "    Skipping optional fixer: unittest\n",
            "    Skipping optional fixer: collections\n",
            "    Skipping optional fixer: int\n",
            "    Skipping optional fixer: memoryview\n",
            "    running build_clib\n",
            "    MPI configuration: [mpi] from 'mpi.cfg'\n",
            "    checking for library 'lmpe' ...\n",
            "    x86_64-linux-gnu-gcc -pthread -fno-strict-aliasing -Wdate-time -D_FORTIFY_SOURCE=2 -g -fdebug-prefix-map=/build/python2.7-nq92VM/python2.7-2.7.17=. -fstack-protector-strong -Wformat -Werror=format-security -fPIC -c _configtest.c -o _configtest.o\n",
            "    x86_64-linux-gnu-gcc -pthread _configtest.o -llmpe -o _configtest\n",
            "    /usr/bin/ld: cannot find -llmpe\n",
            "    collect2: error: ld returned 1 exit status\n",
            "    failure.\n",
            "    removing: _configtest.c _configtest.o\n",
            "    building 'mpe' dylib library\n",
            "    creating build/temp.linux-x86_64-2.7\n",
            "    creating build/temp.linux-x86_64-2.7/src\n",
            "    creating build/temp.linux-x86_64-2.7/src/lib-pmpi\n",
            "    x86_64-linux-gnu-gcc -pthread -fno-strict-aliasing -Wdate-time -D_FORTIFY_SOURCE=2 -g -fdebug-prefix-map=/build/python2.7-nq92VM/python2.7-2.7.17=. -fstack-protector-strong -Wformat -Werror=format-security -fPIC -c src/lib-pmpi/mpe.c -o build/temp.linux-x86_64-2.7/src/lib-pmpi/mpe.o\n",
            "    creating build/lib.linux-x86_64-2.7/mpi4py/lib-pmpi\n",
            "    x86_64-linux-gnu-gcc -pthread -shared -Wl,-O1 -Wl,-Bsymbolic-functions -Wl,-Bsymbolic-functions -Wl,-z,relro -fno-strict-aliasing -DNDEBUG -g -fwrapv -O2 -Wall -Wstrict-prototypes -Wdate-time -D_FORTIFY_SOURCE=2 -g -fdebug-prefix-map=/build/python2.7-nq92VM/python2.7-2.7.17=. -fstack-protector-strong -Wformat -Werror=format-security -Wl,-Bsymbolic-functions -Wl,-z,relro -Wdate-time -D_FORTIFY_SOURCE=2 -g -fdebug-prefix-map=/build/python2.7-nq92VM/python2.7-2.7.17=. -fstack-protector-strong -Wformat -Werror=format-security -fPIC -Wl,--no-as-needed build/temp.linux-x86_64-2.7/src/lib-pmpi/mpe.o -o build/lib.linux-x86_64-2.7/mpi4py/lib-pmpi/libmpe.so\n",
            "    checking for library 'vt-mpi' ...\n",
            "    x86_64-linux-gnu-gcc -pthread -fno-strict-aliasing -Wdate-time -D_FORTIFY_SOURCE=2 -g -fdebug-prefix-map=/build/python2.7-nq92VM/python2.7-2.7.17=. -fstack-protector-strong -Wformat -Werror=format-security -fPIC -c _configtest.c -o _configtest.o\n",
            "    x86_64-linux-gnu-gcc -pthread _configtest.o -lvt-mpi -o _configtest\n",
            "    /usr/bin/ld: cannot find -lvt-mpi\n",
            "    collect2: error: ld returned 1 exit status\n",
            "    failure.\n",
            "    removing: _configtest.c _configtest.o\n",
            "    checking for library 'vt.mpi' ...\n",
            "    x86_64-linux-gnu-gcc -pthread -fno-strict-aliasing -Wdate-time -D_FORTIFY_SOURCE=2 -g -fdebug-prefix-map=/build/python2.7-nq92VM/python2.7-2.7.17=. -fstack-protector-strong -Wformat -Werror=format-security -fPIC -c _configtest.c -o _configtest.o\n",
            "    x86_64-linux-gnu-gcc -pthread _configtest.o -lvt.mpi -o _configtest\n",
            "    /usr/bin/ld: cannot find -lvt.mpi\n",
            "    collect2: error: ld returned 1 exit status\n",
            "    failure.\n",
            "    removing: _configtest.c _configtest.o\n",
            "    building 'vt' dylib library\n",
            "    x86_64-linux-gnu-gcc -pthread -fno-strict-aliasing -Wdate-time -D_FORTIFY_SOURCE=2 -g -fdebug-prefix-map=/build/python2.7-nq92VM/python2.7-2.7.17=. -fstack-protector-strong -Wformat -Werror=format-security -fPIC -c src/lib-pmpi/vt.c -o build/temp.linux-x86_64-2.7/src/lib-pmpi/vt.o\n",
            "    x86_64-linux-gnu-gcc -pthread -shared -Wl,-O1 -Wl,-Bsymbolic-functions -Wl,-Bsymbolic-functions -Wl,-z,relro -fno-strict-aliasing -DNDEBUG -g -fwrapv -O2 -Wall -Wstrict-prototypes -Wdate-time -D_FORTIFY_SOURCE=2 -g -fdebug-prefix-map=/build/python2.7-nq92VM/python2.7-2.7.17=. -fstack-protector-strong -Wformat -Werror=format-security -Wl,-Bsymbolic-functions -Wl,-z,relro -Wdate-time -D_FORTIFY_SOURCE=2 -g -fdebug-prefix-map=/build/python2.7-nq92VM/python2.7-2.7.17=. -fstack-protector-strong -Wformat -Werror=format-security -fPIC -Wl,--no-as-needed build/temp.linux-x86_64-2.7/src/lib-pmpi/vt.o -o build/lib.linux-x86_64-2.7/mpi4py/lib-pmpi/libvt.so\n",
            "    checking for library 'vt-mpi' ...\n",
            "    x86_64-linux-gnu-gcc -pthread -fno-strict-aliasing -Wdate-time -D_FORTIFY_SOURCE=2 -g -fdebug-prefix-map=/build/python2.7-nq92VM/python2.7-2.7.17=. -fstack-protector-strong -Wformat -Werror=format-security -fPIC -c _configtest.c -o _configtest.o\n",
            "    x86_64-linux-gnu-gcc -pthread _configtest.o -lvt-mpi -o _configtest\n",
            "    /usr/bin/ld: cannot find -lvt-mpi\n",
            "    collect2: error: ld returned 1 exit status\n",
            "    failure.\n",
            "    removing: _configtest.c _configtest.o\n",
            "    checking for library 'vt.mpi' ...\n",
            "    x86_64-linux-gnu-gcc -pthread -fno-strict-aliasing -Wdate-time -D_FORTIFY_SOURCE=2 -g -fdebug-prefix-map=/build/python2.7-nq92VM/python2.7-2.7.17=. -fstack-protector-strong -Wformat -Werror=format-security -fPIC -c _configtest.c -o _configtest.o\n",
            "    x86_64-linux-gnu-gcc -pthread _configtest.o -lvt.mpi -o _configtest\n",
            "    /usr/bin/ld: cannot find -lvt.mpi\n",
            "    collect2: error: ld returned 1 exit status\n",
            "    failure.\n",
            "    removing: _configtest.c _configtest.o\n",
            "    building 'vt-mpi' dylib library\n",
            "    x86_64-linux-gnu-gcc -pthread -fno-strict-aliasing -Wdate-time -D_FORTIFY_SOURCE=2 -g -fdebug-prefix-map=/build/python2.7-nq92VM/python2.7-2.7.17=. -fstack-protector-strong -Wformat -Werror=format-security -fPIC -c src/lib-pmpi/vt-mpi.c -o build/temp.linux-x86_64-2.7/src/lib-pmpi/vt-mpi.o\n",
            "    x86_64-linux-gnu-gcc -pthread -shared -Wl,-O1 -Wl,-Bsymbolic-functions -Wl,-Bsymbolic-functions -Wl,-z,relro -fno-strict-aliasing -DNDEBUG -g -fwrapv -O2 -Wall -Wstrict-prototypes -Wdate-time -D_FORTIFY_SOURCE=2 -g -fdebug-prefix-map=/build/python2.7-nq92VM/python2.7-2.7.17=. -fstack-protector-strong -Wformat -Werror=format-security -Wl,-Bsymbolic-functions -Wl,-z,relro -Wdate-time -D_FORTIFY_SOURCE=2 -g -fdebug-prefix-map=/build/python2.7-nq92VM/python2.7-2.7.17=. -fstack-protector-strong -Wformat -Werror=format-security -fPIC -Wl,--no-as-needed build/temp.linux-x86_64-2.7/src/lib-pmpi/vt-mpi.o -o build/lib.linux-x86_64-2.7/mpi4py/lib-pmpi/libvt-mpi.so\n",
            "    checking for library 'vt-hyb' ...\n",
            "    x86_64-linux-gnu-gcc -pthread -fno-strict-aliasing -Wdate-time -D_FORTIFY_SOURCE=2 -g -fdebug-prefix-map=/build/python2.7-nq92VM/python2.7-2.7.17=. -fstack-protector-strong -Wformat -Werror=format-security -fPIC -c _configtest.c -o _configtest.o\n",
            "    x86_64-linux-gnu-gcc -pthread _configtest.o -lvt-hyb -o _configtest\n",
            "    /usr/bin/ld: cannot find -lvt-hyb\n",
            "    collect2: error: ld returned 1 exit status\n",
            "    failure.\n",
            "    removing: _configtest.c _configtest.o\n",
            "    checking for library 'vt.ompi' ...\n",
            "    x86_64-linux-gnu-gcc -pthread -fno-strict-aliasing -Wdate-time -D_FORTIFY_SOURCE=2 -g -fdebug-prefix-map=/build/python2.7-nq92VM/python2.7-2.7.17=. -fstack-protector-strong -Wformat -Werror=format-security -fPIC -c _configtest.c -o _configtest.o\n",
            "    x86_64-linux-gnu-gcc -pthread _configtest.o -lvt.ompi -o _configtest\n",
            "    /usr/bin/ld: cannot find -lvt.ompi\n",
            "    collect2: error: ld returned 1 exit status\n",
            "    failure.\n",
            "    removing: _configtest.c _configtest.o\n",
            "    building 'vt-hyb' dylib library\n",
            "    x86_64-linux-gnu-gcc -pthread -fno-strict-aliasing -Wdate-time -D_FORTIFY_SOURCE=2 -g -fdebug-prefix-map=/build/python2.7-nq92VM/python2.7-2.7.17=. -fstack-protector-strong -Wformat -Werror=format-security -fPIC -c src/lib-pmpi/vt-hyb.c -o build/temp.linux-x86_64-2.7/src/lib-pmpi/vt-hyb.o\n",
            "    x86_64-linux-gnu-gcc -pthread -shared -Wl,-O1 -Wl,-Bsymbolic-functions -Wl,-Bsymbolic-functions -Wl,-z,relro -fno-strict-aliasing -DNDEBUG -g -fwrapv -O2 -Wall -Wstrict-prototypes -Wdate-time -D_FORTIFY_SOURCE=2 -g -fdebug-prefix-map=/build/python2.7-nq92VM/python2.7-2.7.17=. -fstack-protector-strong -Wformat -Werror=format-security -Wl,-Bsymbolic-functions -Wl,-z,relro -Wdate-time -D_FORTIFY_SOURCE=2 -g -fdebug-prefix-map=/build/python2.7-nq92VM/python2.7-2.7.17=. -fstack-protector-strong -Wformat -Werror=format-security -fPIC -Wl,--no-as-needed build/temp.linux-x86_64-2.7/src/lib-pmpi/vt-hyb.o -o build/lib.linux-x86_64-2.7/mpi4py/lib-pmpi/libvt-hyb.so\n",
            "    running build_ext\n",
            "    MPI configuration: [mpi] from 'mpi.cfg'\n",
            "    checking for dlopen() availability ...\n",
            "    checking for header 'dlfcn.h' ...\n",
            "    x86_64-linux-gnu-gcc -pthread -fno-strict-aliasing -Wdate-time -D_FORTIFY_SOURCE=2 -g -fdebug-prefix-map=/build/python2.7-nq92VM/python2.7-2.7.17=. -fstack-protector-strong -Wformat -Werror=format-security -fPIC -I/usr/include/python2.7 -c _configtest.c -o _configtest.o\n",
            "    success!\n",
            "    removing: _configtest.c _configtest.o\n",
            "    success!\n",
            "    checking for library 'dl' ...\n",
            "    x86_64-linux-gnu-gcc -pthread -fno-strict-aliasing -Wdate-time -D_FORTIFY_SOURCE=2 -g -fdebug-prefix-map=/build/python2.7-nq92VM/python2.7-2.7.17=. -fstack-protector-strong -Wformat -Werror=format-security -fPIC -I/usr/include/python2.7 -c _configtest.c -o _configtest.o\n",
            "    x86_64-linux-gnu-gcc -pthread _configtest.o -Lbuild/temp.linux-x86_64-2.7 -ldl -o _configtest\n",
            "    success!\n",
            "    removing: _configtest.c _configtest.o _configtest\n",
            "    checking for function 'dlopen' ...\n",
            "    x86_64-linux-gnu-gcc -pthread -fno-strict-aliasing -Wdate-time -D_FORTIFY_SOURCE=2 -g -fdebug-prefix-map=/build/python2.7-nq92VM/python2.7-2.7.17=. -fstack-protector-strong -Wformat -Werror=format-security -fPIC -I/usr/include/python2.7 -c _configtest.c -o _configtest.o\n",
            "    x86_64-linux-gnu-gcc -pthread _configtest.o -Lbuild/temp.linux-x86_64-2.7 -ldl -o _configtest\n",
            "    success!\n",
            "    removing: _configtest.c _configtest.o _configtest\n",
            "    building 'mpi4py.dl' extension\n",
            "    x86_64-linux-gnu-gcc -pthread -fno-strict-aliasing -Wdate-time -D_FORTIFY_SOURCE=2 -g -fdebug-prefix-map=/build/python2.7-nq92VM/python2.7-2.7.17=. -fstack-protector-strong -Wformat -Werror=format-security -fPIC -DHAVE_DLFCN_H=1 -DHAVE_DLOPEN=1 -I/usr/include/python2.7 -c src/dynload.c -o build/temp.linux-x86_64-2.7/src/dynload.o\n",
            "    x86_64-linux-gnu-gcc -pthread -shared -Wl,-O1 -Wl,-Bsymbolic-functions -Wl,-Bsymbolic-functions -Wl,-z,relro -fno-strict-aliasing -DNDEBUG -g -fwrapv -O2 -Wall -Wstrict-prototypes -Wdate-time -D_FORTIFY_SOURCE=2 -g -fdebug-prefix-map=/build/python2.7-nq92VM/python2.7-2.7.17=. -fstack-protector-strong -Wformat -Werror=format-security -Wl,-Bsymbolic-functions -Wl,-z,relro -Wdate-time -D_FORTIFY_SOURCE=2 -g -fdebug-prefix-map=/build/python2.7-nq92VM/python2.7-2.7.17=. -fstack-protector-strong -Wformat -Werror=format-security -fPIC build/temp.linux-x86_64-2.7/src/dynload.o -Lbuild/temp.linux-x86_64-2.7 -ldl -o build/lib.linux-x86_64-2.7/mpi4py/dl.so\n",
            "    checking for MPI compile and link ...\n",
            "    x86_64-linux-gnu-gcc -pthread -fno-strict-aliasing -Wdate-time -D_FORTIFY_SOURCE=2 -g -fdebug-prefix-map=/build/python2.7-nq92VM/python2.7-2.7.17=. -fstack-protector-strong -Wformat -Werror=format-security -fPIC -I/usr/include/python2.7 -c _configtest.c -o _configtest.o\n",
            "    _configtest.c:2:10: fatal error: mpi.h: No such file or directory\n",
            "     #include <mpi.h>\n",
            "              ^~~~~~~\n",
            "    compilation terminated.\n",
            "    failure.\n",
            "    removing: _configtest.c _configtest.o\n",
            "    error: Cannot compile MPI programs. Check your configuration!!!\n",
            "    \n",
            "    ----------------------------------------\n",
            "\u001b[?25h\u001b[31mCommand \"/usr/bin/python -u -c \"import setuptools, tokenize;__file__='/tmp/pip-build-OWzFsm/mpi4py/setup.py';f=getattr(tokenize, 'open', open)(__file__);code=f.read().replace('\\r\\n', '\\n');f.close();exec(compile(code, __file__, 'exec'))\" install --record /tmp/pip-jXh4BK-record/install-record.txt --single-version-externally-managed --compile --user --prefix=\" failed with error code 1 in /tmp/pip-build-OWzFsm/mpi4py/\u001b[0m\n"
          ]
        }
      ],
      "source": [
        "!pip install mpi4py"
      ]
    },
    {
      "cell_type": "code",
      "execution_count": 6,
      "metadata": {
        "colab": {
          "base_uri": "https://localhost:8080/"
        },
        "id": "xvAAOle4ga5C",
        "outputId": "6b657d7d-9592-4c19-8187-828def4b8ee2"
      },
      "outputs": [
        {
          "name": "stdout",
          "output_type": "stream",
          "text": [
            "Overwriting example0.py\n"
          ]
        }
      ],
      "source": [
        "%%writefile example0.py\n",
        "\n",
        "from mpi4py import MPI\n",
        "\n",
        "def main():\n",
        "  comm = MPI.COMM_WORLD # komunikator zawierający wszystkie procesy\n",
        "  id = comm.Get_rank() # id aktualnego procesu\n",
        "  num_proc = comm.Get_size() # liczba procesów w komunikatorze\n",
        "  host_name = MPI.Get_processor_name() # nazwa maszyny na której uruchamiany jest program\n",
        "\n",
        "  print(f\"Jestem procesem nr {id} z {num_proc} uruchamianym na maszynie {host_name}\")\n",
        "\n",
        "main()\n"
      ]
    },
    {
      "cell_type": "code",
      "execution_count": 9,
      "metadata": {
        "id": "KytNw2hRijaN"
      },
      "outputs": [
        {
          "name": "stdout",
          "output_type": "stream",
          "text": [
            "Jestem procesem nr 1 z 4 uruchamianym na maszynie ubuntu_1804_desktop\n",
            "Jestem procesem nr 3 z 4 uruchamianym na maszynie ubuntu_1804_desktop\n",
            "Jestem procesem nr 2 z 4 uruchamianym na maszynie ubuntu_1804_desktop\n",
            "Jestem procesem nr 0 z 4 uruchamianym na maszynie ubuntu_1804_desktop\n"
          ]
        }
      ],
      "source": [
        "# -*- coding: utf-8 -*-\n",
        "#uruchomienie na komputrze lokalnym:\n",
        "# mpirun -np 4 python example0.py \n",
        "# ! oraz opcja --allow-run-as-root dodane na potrzeby notatnika\n",
        "!mpirun --allow-run-as-root -np 4 python3 example0.py"
      ]
    },
    {
      "cell_type": "code",
      "execution_count": 17,
      "metadata": {
        "colab": {
          "base_uri": "https://localhost:8080/"
        },
        "id": "SROxFakHjYvy",
        "outputId": "03dac79a-da46-4101-ea05-d836fd7bed20"
      },
      "outputs": [
        {
          "name": "stdout",
          "output_type": "stream",
          "text": [
            "Overwriting example1.py\n"
          ]
        }
      ],
      "source": [
        "%%writefile example1.py\n",
        "# -*- coding: utf-8 -*-\n",
        "\n",
        "from mpi4py import MPI\n",
        "\n",
        "def main():\n",
        "  comm = MPI.COMM_WORLD # komunikator zawierający wszystkie procesy\n",
        "  id = comm.Get_rank() # id aktualnego procesu\n",
        "  num_proc = comm.Get_size() # liczba procesów w komunikatorze\n",
        "  host_name = MPI.Get_processor_name() # nazwa maszyny na której uruchamiany jest program\n",
        "\n",
        "  if id == 0:\n",
        "    print(f\"Jestem procesem ** głównym ** o id {id} uruchamianym na maszynie {host_name}\")\n",
        "  else:\n",
        "    print(f\"Jestem procesem nr {id} z {num_proc} uruchamianym na maszynie {host_name}\")\n",
        "\n",
        "\n",
        "main()"
      ]
    },
    {
      "cell_type": "code",
      "execution_count": 24,
      "metadata": {
        "id": "c1Veg0nnppef"
      },
      "outputs": [
        {
          "name": "stdout",
          "output_type": "stream",
          "text": [
            "Jestem procesem nr 1 z 4 uruchamianym na maszynie ubuntu_1804_desktop\n",
            "Jestem procesem nr 2 z 4 uruchamianym na maszynie ubuntu_1804_desktop\n",
            "Jestem procesem ** głównym ** o id 0 uruchamianym na maszynie ubuntu_1804_desktop\n",
            "Jestem procesem nr 3 z 4 uruchamianym na maszynie ubuntu_1804_desktop\n"
          ]
        }
      ],
      "source": [
        "!mpirun --allow-run-as-root -np 4 python3 example1.py"
      ]
    },
    {
      "cell_type": "code",
      "execution_count": 30,
      "metadata": {
        "colab": {
          "base_uri": "https://localhost:8080/"
        },
        "id": "m9ZbA1HHbLnC",
        "outputId": "01766f53-959d-4574-e1e4-cf92493f9cb8"
      },
      "outputs": [
        {
          "name": "stdout",
          "output_type": "stream",
          "text": [
            "Overwriting example2.py\n"
          ]
        }
      ],
      "source": [
        "%%writefile example2.py\n",
        "from mpi4py import MPI\n",
        "\n",
        "def main():\n",
        "    comm = MPI.COMM_WORLD\n",
        "    id = comm.Get_rank()            #number of the process running the code\n",
        "    num_processes = comm.Get_size()  #total number of processes running\n",
        "    my_host_name = MPI.Get_processor_name()  #machine name running the code\n",
        "\n",
        "    REPS = 16\n",
        "\n",
        "    if ((REPS % num_processes) == 0 and num_processes <= REPS):\n",
        "        # How much of the loop should a process work on?\n",
        "        chunk_size = int(REPS / num_processes)\n",
        "        start = id * chunk_size\n",
        "        stop = start + chunk_size\n",
        "\n",
        "        # do the work within the range set aside for this process\n",
        "        for i in range(start, stop):\n",
        "            print(\"On {}: Process {} is performing iteration {}\"\\\n",
        "            .format(my_host_name, id, i))\n",
        "\n",
        "    else:\n",
        "        # cannot break into equal chunks; one process reports the error\n",
        "        if id == 0 :\n",
        "            print(\"Please run with number of processes divisible by \\\n",
        "and less than or equal to {}.\".format(REPS))\n",
        "\n",
        "########## Run the main function\n",
        "main()\n"
      ]
    },
    {
      "cell_type": "code",
      "execution_count": 33,
      "metadata": {
        "id": "YDsCPW6Kbho2"
      },
      "outputs": [
        {
          "name": "stdout",
          "output_type": "stream",
          "text": [
            "On ubuntu_1804_desktop: Process 3 is performing iteration 12\n",
            "On ubuntu_1804_desktop: Process 3 is performing iteration 13\n",
            "On ubuntu_1804_desktop: Process 3 is performing iteration 14\n",
            "On ubuntu_1804_desktop: Process 3 is performing iteration 15\n",
            "On ubuntu_1804_desktop: Process 0 is performing iteration 0\n",
            "On ubuntu_1804_desktop: Process 0 is performing iteration 1\n",
            "On ubuntu_1804_desktop: Process 0 is performing iteration 2\n",
            "On ubuntu_1804_desktop: Process 0 is performing iteration 3\n",
            "On ubuntu_1804_desktop: Process 1 is performing iteration 4\n",
            "On ubuntu_1804_desktop: Process 1 is performing iteration 5\n",
            "On ubuntu_1804_desktop: Process 1 is performing iteration 6\n",
            "On ubuntu_1804_desktop: Process 1 is performing iteration 7\n",
            "On ubuntu_1804_desktop: Process 2 is performing iteration 8\n",
            "On ubuntu_1804_desktop: Process 2 is performing iteration 9\n",
            "On ubuntu_1804_desktop: Process 2 is performing iteration 10\n",
            "On ubuntu_1804_desktop: Process 2 is performing iteration 11\n"
          ]
        }
      ],
      "source": [
        "! mpirun --allow-run-as-root -np 4 python3 example2.py"
      ]
    },
    {
      "cell_type": "markdown",
      "metadata": {
        "id": "HuetR_Lmdqy9"
      },
      "source": [
        "\n",
        "*   Proszę uruchomić powyższy program użwając różnej liczby procesów (N = 1,2,4,8);  \n",
        "\n",
        "*   zmienić wartość REPS na 16\n",
        "* wyjaśnić jak schemat dzieli iteracje pętli między procesy"
      ]
    },
    {
      "cell_type": "code",
      "execution_count": 37,
      "metadata": {
        "colab": {
          "base_uri": "https://localhost:8080/"
        },
        "id": "VoBgUYizeEk-",
        "outputId": "42481f23-f09d-4849-d0fb-13b14ba436e9"
      },
      "outputs": [
        {
          "name": "stdout",
          "output_type": "stream",
          "text": [
            "Overwriting example3.py\n"
          ]
        }
      ],
      "source": [
        "%%writefile example3.py\n",
        "from mpi4py import MPI\n",
        "\n",
        "def main():\n",
        "    comm = MPI.COMM_WORLD\n",
        "    id = comm.Get_rank()            #number of the process running the code\n",
        "    numProcesses = comm.Get_size()  #total number of processes running\n",
        "    myHostName = MPI.Get_processor_name()  #machine name running the code\n",
        "\n",
        "    REPS = 16\n",
        "\n",
        "    if (numProcesses <= REPS):\n",
        "\n",
        "        for i in range(id, REPS, numProcesses):\n",
        "            print(\"On {}: Process {} is performing iteration {}\"\\\n",
        "            .format(myHostName, id, i))\n",
        "\n",
        "    else:\n",
        "        # can't have more processes than work; one process reports the error\n",
        "        if id == 0 :\n",
        "            print(\"Please run with number of processes less than \\\n",
        "or equal to {}.\".format(REPS))\n",
        "\n",
        "########## Run the main function\n",
        "main()\n"
      ]
    },
    {
      "cell_type": "code",
      "execution_count": 38,
      "metadata": {
        "id": "ERboKygpkmR_"
      },
      "outputs": [
        {
          "name": "stdout",
          "output_type": "stream",
          "text": [
            "On ubuntu_1804_desktop: Process 1 is performing iteration 1\n",
            "On ubuntu_1804_desktop: Process 1 is performing iteration 5\n",
            "On ubuntu_1804_desktop: Process 1 is performing iteration 9\n",
            "On ubuntu_1804_desktop: Process 1 is performing iteration 13\n",
            "On ubuntu_1804_desktop: Process 3 is performing iteration 3\n",
            "On ubuntu_1804_desktop: Process 3 is performing iteration 7\n",
            "On ubuntu_1804_desktop: Process 3 is performing iteration 11\n",
            "On ubuntu_1804_desktop: Process 3 is performing iteration 15\n",
            "On ubuntu_1804_desktop: Process 0 is performing iteration 0\n",
            "On ubuntu_1804_desktop: Process 0 is performing iteration 4\n",
            "On ubuntu_1804_desktop: Process 0 is performing iteration 8\n",
            "On ubuntu_1804_desktop: Process 0 is performing iteration 12\n",
            "On ubuntu_1804_desktop: Process 2 is performing iteration 2\n",
            "On ubuntu_1804_desktop: Process 2 is performing iteration 6\n",
            "On ubuntu_1804_desktop: Process 2 is performing iteration 10\n",
            "On ubuntu_1804_desktop: Process 2 is performing iteration 14\n"
          ]
        }
      ],
      "source": [
        "! mpirun --allow-run-as-root -np 4 python3 example3.py"
      ]
    },
    {
      "cell_type": "markdown",
      "metadata": {
        "id": "yMzhBSzwkziL"
      },
      "source": [
        "* Proszę uruchomić powyższy program użwając różnej liczby procesów (N = 1,2,4,8);\n",
        "\n",
        "* zmienić wartość REPS na 16\n",
        "\n",
        "* wyjaśnić jak schemat dzieli iteracje pętli między procesy"
      ]
    },
    {
      "cell_type": "markdown",
      "metadata": {
        "id": "rFTzISLrk7fW"
      },
      "source": [
        "Komunikacja punkt-punkt"
      ]
    },
    {
      "cell_type": "code",
      "execution_count": 46,
      "metadata": {
        "id": "qcQEJTCPk7J2"
      },
      "outputs": [
        {
          "name": "stdout",
          "output_type": "stream",
          "text": [
            "Overwriting example4.py\n"
          ]
        }
      ],
      "source": [
        "%%writefile example4.py\n",
        "from mpi4py import MPI\n",
        "\n",
        "# function to return whether a number of a process is odd or even\n",
        "def odd(number):\n",
        "    if (number % 2) == 0:\n",
        "        return False\n",
        "    else :\n",
        "        return True\n",
        "\n",
        "def main():\n",
        "    comm = MPI.COMM_WORLD\n",
        "    id = comm.Get_rank()            #number of the process running the code\n",
        "    num_processes = comm.Get_size()  #total number of processes running\n",
        "    my_host_name = MPI.Get_processor_name()  #machine name running the code\n",
        "\n",
        "    if num_processes > 1 and not odd(num_processes):\n",
        "        #generate a list of 8 numbers, beginning with my id\n",
        "        send_list = list(range(id, id+8))\n",
        "        if odd(id):\n",
        "            #odd processes send to their 'left neighbor', then receive from\n",
        "            comm.send(send_list, dest=id-1)\n",
        "            received_list = comm.recv(source=id-1)\n",
        "        else :\n",
        "            #even processes receive from their 'right neighbor', then send\n",
        "            received_list = comm.recv(source=id+1)\n",
        "            comm.send(send_list, dest=id+1)\n",
        "\n",
        "        print(\"Process {} of {} on {} computed {} and received {}\"\\\n",
        "        .format(id, num_processes, my_host_name, send_list, received_list))\n",
        "\n",
        "    else :\n",
        "        if id == 0:\n",
        "            print(\"Please run this program with the number of processes \\\n",
        "positive and even\")\n",
        "\n",
        "########## Run the main function\n",
        "main()"
      ]
    },
    {
      "cell_type": "code",
      "execution_count": 47,
      "metadata": {
        "id": "PXQjxcgJoLVh"
      },
      "outputs": [
        {
          "name": "stdout",
          "output_type": "stream",
          "text": [
            "Process 2 of 4 on ubuntu_1804_desktop computed [2, 3, 4, 5, 6, 7, 8, 9] and received [3, 4, 5, 6, 7, 8, 9, 10]\n",
            "Process 3 of 4 on ubuntu_1804_desktop computed [3, 4, 5, 6, 7, 8, 9, 10] and received [2, 3, 4, 5, 6, 7, 8, 9]\n",
            "Process 0 of 4 on ubuntu_1804_desktop computed [0, 1, 2, 3, 4, 5, 6, 7] and received [1, 2, 3, 4, 5, 6, 7, 8]\n",
            "Process 1 of 4 on ubuntu_1804_desktop computed [1, 2, 3, 4, 5, 6, 7, 8] and received [0, 1, 2, 3, 4, 5, 6, 7]\n"
          ]
        }
      ],
      "source": [
        "! mpirun --allow-run-as-root -np 4 python3 example4.py"
      ]
    },
    {
      "cell_type": "markdown",
      "metadata": {
        "id": "c-YCBUkionZe"
      },
      "source": [
        "Proszę narysować schemat komunikacji pomiędzy poszczególnymi procesami w zadaniu numer 4"
      ]
    },
    {
      "cell_type": "markdown",
      "metadata": {
        "id": "kL8QLk7WpLIT"
      },
      "source": [
        "##Zadanie\n",
        "**Zadanie.** Proszę napisać program który generuje tablicę tablic liczb w procesie głównym i rozsyłą je do pozostałych procesów. Procesy odbierają swoją część tablicy i wyliczają oraz wypisują jej sumę;   "
      ]
    },
    {
      "cell_type": "markdown",
      "metadata": {
        "id": "H2Z18A5Kqz1P"
      },
      "source": [
        "Komunikacja kolektywna"
      ]
    },
    {
      "cell_type": "code",
      "execution_count": 52,
      "metadata": {
        "colab": {
          "base_uri": "https://localhost:8080/"
        },
        "id": "BxmmtViDqzgR",
        "outputId": "33aa332b-3de4-42ba-8ac4-9f633217962b"
      },
      "outputs": [
        {
          "name": "stdout",
          "output_type": "stream",
          "text": [
            "Overwriting broadcast_example.py\n"
          ]
        }
      ],
      "source": [
        "%%writefile broadcast_example.py\n",
        "from mpi4py import MPI\n",
        "\n",
        "def main():\n",
        "    comm = MPI.COMM_WORLD\n",
        "    id = comm.Get_rank()            #number of the process running the code\n",
        "    num_processes = comm.Get_size()  #total number of processes running\n",
        "    my_host_name = MPI.Get_processor_name()  #machine name running the code\n",
        "\n",
        "    if num_processes > 1 :\n",
        "\n",
        "        if id == 0:        # master\n",
        "            #master: generate a dictionary with arbitrary data in it\n",
        "            data = list(range(num_processes))\n",
        "            print(\"Master Process {} of {} on {} broadcasts {}\"\\\n",
        "            .format(id, num_processes, my_host_name, data))\n",
        "\n",
        "        else :\n",
        "            # worker: start with empty data\n",
        "            data = []\n",
        "            print(\"Worker Process {} of {} on {} starts with {}\"\\\n",
        "            .format(id, num_processes, my_host_name, data))\n",
        "\n",
        "        #initiate and complete the broadcast\n",
        "        data = comm.bcast(data, root=0)\n",
        "\n",
        "        #check the result\n",
        "        print(\"Process {} of {} on {} has {} after the broadcast\"\\\n",
        "        .format(id, num_processes, my_host_name, data))\n",
        "\n",
        "    else :\n",
        "        print(\"Please run this program with the number of processes greater than 1\")\n",
        "\n",
        "########## Run the main function\n",
        "main()\n"
      ]
    },
    {
      "cell_type": "code",
      "execution_count": 54,
      "metadata": {
        "id": "rRSNY-R7rZUj"
      },
      "outputs": [
        {
          "name": "stdout",
          "output_type": "stream",
          "text": [
            "Worker Process 3 of 4 on ubuntu_1804_desktop starts with []\n",
            "Worker Process 1 of 4 on ubuntu_1804_desktop starts with []\n",
            "Worker Process 2 of 4 on ubuntu_1804_desktop starts with []\n",
            "Master Process 0 of 4 on ubuntu_1804_desktop broadcasts [0, 1, 2, 3]\n",
            "Process 0 of 4 on ubuntu_1804_desktop has [0, 1, 2, 3] after the broadcast\n",
            "Process 2 of 4 on ubuntu_1804_desktop has [0, 1, 2, 3] after the broadcast\n",
            "Process 1 of 4 on ubuntu_1804_desktop has [0, 1, 2, 3] after the broadcast\n",
            "Process 3 of 4 on ubuntu_1804_desktop has [0, 1, 2, 3] after the broadcast\n"
          ]
        }
      ],
      "source": [
        "! mpirun --allow-run-as-root -np 4 python3 broadcast_example.py"
      ]
    },
    {
      "cell_type": "markdown",
      "metadata": {
        "id": "i4iARvNErWQy"
      },
      "source": [
        "Scatter, Gather "
      ]
    },
    {
      "cell_type": "code",
      "execution_count": 57,
      "metadata": {
        "colab": {
          "base_uri": "https://localhost:8080/"
        },
        "id": "3RTlc4w1ruZx",
        "outputId": "9f53325c-4444-465a-d5bc-fe5e461050ef"
      },
      "outputs": [
        {
          "name": "stdout",
          "output_type": "stream",
          "text": [
            "Overwriting 14scatter.py\n"
          ]
        }
      ],
      "source": [
        "%%writefile 14scatter.py\n",
        "from mpi4py import MPI\n",
        "\n",
        "# Create a list of lists to be scattered.\n",
        "def gen_list_of_lists(num_elements):\n",
        "    data = [[0]*3 for i in range(num_elements)]\n",
        "    for i in range(num_elements):\n",
        "        #make small lists of 3 distinct elements\n",
        "        smaller_list = []\n",
        "        for j in range(1,4):\n",
        "            smaller_list = smaller_list + [(i+1)*j]\n",
        "        # place the small list in the larger list\n",
        "        data[i] = smaller_list\n",
        "    return data\n",
        "\n",
        "def main():\n",
        "    comm = MPI.COMM_WORLD\n",
        "    id = comm.Get_rank()            #number of the process running the code\n",
        "    num_processes = comm.Get_size()  #total number of processes running\n",
        "    my_host_name = MPI.Get_processor_name()  #machine name running the code\n",
        "\n",
        "    # in mpi4py, the lowercase scatter method only works on lists whose size\n",
        "    # is the total number of processes.\n",
        "    num_elements = num_processes      #total elements in list created by master process\n",
        "\n",
        "    # however, the list can contain lists, like this list of 3-element lists,\n",
        "    # for example this list of four 3-element lists:\n",
        "    #     [[1, 2, 3], [2, 4, 6], [3, 6, 9], [4, 8, 12]]\n",
        "\n",
        "    if id == 0:\n",
        "        data = gen_list_of_lists(num_elements)\n",
        "        print(\"Master {} of {} on {} has created list: {}\"\\\n",
        "        .format(id, num_processes, my_host_name, data))\n",
        "    else:\n",
        "        data = None\n",
        "        print(\"Worker Process {} of {} on {} starts with {}\"\\\n",
        "        .format(id, num_processes, my_host_name, data))\n",
        "\n",
        "    #scatter one small list in the large list on node 0 to each of the processes\n",
        "    result = comm.scatter(data, root=0)\n",
        "\n",
        "    print(\"Process {} of {} on {} has result after scatter {}\"\\\n",
        "    .format(id, num_processes, my_host_name, result))\n",
        "\n",
        "    if id == 0:\n",
        "        print(\"Master {} of {} on {} has original list after scatter: {}\"\\\n",
        "        .format(id, num_processes, my_host_name, data))\n",
        "\n",
        "########## Run the main function\n",
        "main()"
      ]
    },
    {
      "cell_type": "code",
      "execution_count": 59,
      "metadata": {
        "id": "ItDGyYrqrxBA"
      },
      "outputs": [
        {
          "name": "stdout",
          "output_type": "stream",
          "text": [
            "Worker Process 3 of 6 on ubuntu_1804_desktop starts with None\n",
            "Worker Process 4 of 6 on ubuntu_1804_desktop starts with None\n",
            "Worker Process 1 of 6 on ubuntu_1804_desktop starts with None\n",
            "Worker Process 2 of 6 on ubuntu_1804_desktop starts with None\n",
            "Master 0 of 6 on ubuntu_1804_desktop has created list: [[1, 2, 3], [2, 4, 6], [3, 6, 9], [4, 8, 12], [5, 10, 15], [6, 12, 18]]\n",
            "Worker Process 5 of 6 on ubuntu_1804_desktop starts with None\n",
            "Process 2 of 6 on ubuntu_1804_desktop has result after scatter [3, 6, 9]\n",
            "Process 1 of 6 on ubuntu_1804_desktop has result after scatter [2, 4, 6]\n",
            "Process 3 of 6 on ubuntu_1804_desktop has result after scatter [4, 8, 12]\n",
            "Process 0 of 6 on ubuntu_1804_desktop has result after scatter [1, 2, 3]\n",
            "Master 0 of 6 on ubuntu_1804_desktop has original list after scatter: [[1, 2, 3], [2, 4, 6], [3, 6, 9], [4, 8, 12], [5, 10, 15], [6, 12, 18]]\n",
            "Process 4 of 6 on ubuntu_1804_desktop has result after scatter [5, 10, 15]\n",
            "Process 5 of 6 on ubuntu_1804_desktop has result after scatter [6, 12, 18]\n"
          ]
        }
      ],
      "source": [
        "! mpirun --allow-run-as-root -np 4 python3 14scatter.py"
      ]
    },
    {
      "cell_type": "markdown",
      "metadata": {
        "id": "DvCNDN56s71A"
      },
      "source": [
        "Zadanie. Proszę napisać program który generuje tablicę tablic liczb w procesie głównym i rozsyłą je do pozostałych procesów. Procesy odbierają swoją część tablicy i wyliczają oraz wypisują jej sumę. Proszę napisac program z wykorzystaniem komunikacji kolektywnej"
      ]
    },
    {
      "cell_type": "code",
      "execution_count": 91,
      "metadata": {},
      "outputs": [
        {
          "name": "stdout",
          "output_type": "stream",
          "text": [
            "Overwriting cw.py\n"
          ]
        }
      ],
      "source": [
        "%%writefile cw.py\n",
        "from mpi4py import MPI\n",
        "\n",
        "def gen_list_of_lists(num_elements):\n",
        "    data = [[0]*3 for i in range(num_elements)]\n",
        "    for i in range(num_elements):\n",
        "        #make small lists of 3 distinct elements\n",
        "        smaller_list = []\n",
        "        for j in range(1,4):\n",
        "            smaller_list = smaller_list + [(i+1)*j]\n",
        "        # place the small list in the larger list\n",
        "        data[i] = smaller_list\n",
        "    data[0] = []\n",
        "    return data\n",
        "\n",
        "def main():\n",
        "    comm = MPI.COMM_WORLD\n",
        "    id = comm.Get_rank()            #number of the process running the code\n",
        "    num_processes = comm.Get_size()  #total number of processes running\n",
        "    my_host_name = MPI.Get_processor_name()  #machine name running the code\n",
        "\n",
        "    # in mpi4py, the lowercase scatter method only works on lists whose size\n",
        "    # is the total number of processes.\n",
        "    num_elements = num_processes      #total elements in list created by master process\n",
        "\n",
        "    # however, the list can contain lists, like this list of 3-element lists,\n",
        "    # for example this list of four 3-element lists:\n",
        "    #     [[1, 2, 3], [2, 4, 6], [3, 6, 9], [4, 8, 12]]\n",
        "    result = 0\n",
        "    if id == 0:\n",
        "        data = gen_list_of_lists(num_elements)\n",
        "        print(\"Master {} of {} on {} has created list: {}\"\\\n",
        "        .format(id, num_processes, my_host_name, data))\n",
        "    else:\n",
        "        data = None\n",
        "        print(\"Worker Process {} of {} on {} starts with {}\"\\\n",
        "        .format(id, num_processes, my_host_name, data))\n",
        "\n",
        "    result = comm.scatter(data, root=0)\n",
        "    if id != 0:\n",
        "        sum_part = sum(result)\n",
        "        print(\"id {} result - {}\"\n",
        "        .format(id, sum_part))\n",
        "        comm.send(sum_part, dest=0)\n",
        "    #scatter one small list in the large list on node 0 to each of the processes\n",
        "\n",
        "    # print(\"Process {} of {} on {} has result after scatter {}\"\\\n",
        "    # .format(id, num_processes, my_host_name, result))\n",
        "\n",
        "    if id == 0:\n",
        "        print(\"Master {} of {} on {} has original list after scatter: {}\"\\\n",
        "        .format(id, num_processes, my_host_name, data))\n",
        "        print(\"Start receiving\")\n",
        "        final_sum = 0\n",
        "        for i in range(1, num_processes):\n",
        "            final_sum += comm.recv(source=i)\n",
        "\n",
        "        print(\"Final sum {}\".format(final_sum))\n",
        "########## Run the main function\n",
        "main()"
      ]
    },
    {
      "cell_type": "code",
      "execution_count": 93,
      "metadata": {},
      "outputs": [
        {
          "name": "stdout",
          "output_type": "stream",
          "text": [
            "Worker Process 2 of 4 on ubuntu_1804_desktop starts with None\n",
            "Master 0 of 4 on ubuntu_1804_desktop has created list: [[], [2, 4, 6], [3, 6, 9], [4, 8, 12]]\n",
            "Master 0 of 4 on ubuntu_1804_desktop has original list after scatter: [[], [2, 4, 6], [3, 6, 9], [4, 8, 12]]\n",
            "Start receiving\n",
            "id 2 result - 18\n",
            "Worker Process 1 of 4 on ubuntu_1804_desktop starts with None\n",
            "Worker Process 3 of 4 on ubuntu_1804_desktop starts with None\n",
            "id 1 result - 12\n",
            "id 3 result - 24\n",
            "Final sum 54\n"
          ]
        }
      ],
      "source": [
        "! mpirun --allow-run-as-root -np 4 python3 cw.py"
      ]
    }
  ],
  "metadata": {
    "colab": {
      "name": "PRIR_mpi4py.ipynb",
      "provenance": []
    },
    "kernelspec": {
      "display_name": "Python 3.6.9 64-bit",
      "language": "python",
      "name": "python3"
    },
    "language_info": {
      "codemirror_mode": {
        "name": "ipython",
        "version": 3
      },
      "file_extension": ".py",
      "mimetype": "text/x-python",
      "name": "python",
      "nbconvert_exporter": "python",
      "pygments_lexer": "ipython3",
      "version": "3.6.9"
    },
    "vscode": {
      "interpreter": {
        "hash": "31f2aee4e71d21fbe5cf8b01ff0e069b9275f58929596ceb00d14d90e3e16cd6"
      }
    }
  },
  "nbformat": 4,
  "nbformat_minor": 0
}
